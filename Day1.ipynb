{
  "nbformat": 4,
  "nbformat_minor": 0,
  "metadata": {
    "colab": {
      "name": "Day1",
      "provenance": [],
      "collapsed_sections": [],
      "authorship_tag": "ABX9TyNNTU8pV4hyuk8a8ydn5AVQ",
      "include_colab_link": true
    },
    "kernelspec": {
      "name": "python3",
      "display_name": "Python 3"
    },
    "language_info": {
      "name": "python"
    }
  },
  "cells": [
    {
      "cell_type": "markdown",
      "metadata": {
        "id": "view-in-github",
        "colab_type": "text"
      },
      "source": [
        "<a href=\"https://colab.research.google.com/github/ysrikanth451/PythonCourse/blob/main/Day1.ipynb\" target=\"_parent\"><img src=\"https://colab.research.google.com/assets/colab-badge.svg\" alt=\"Open In Colab\"/></a>"
      ]
    },
    {
      "cell_type": "code",
      "metadata": {
        "colab": {
          "base_uri": "https://localhost:8080/",
          "height": 35
        },
        "id": "aLEWjDbPQvTv",
        "outputId": "b0c1bda9-57a0-47db-d033-963011df885d"
      },
      "source": [
        "s=\"welcome\"\n",
        "s"
      ],
      "execution_count": null,
      "outputs": [
        {
          "output_type": "execute_result",
          "data": {
            "application/vnd.google.colaboratory.intrinsic+json": {
              "type": "string"
            },
            "text/plain": [
              "'welcome'"
            ]
          },
          "metadata": {},
          "execution_count": 1
        }
      ]
    },
    {
      "cell_type": "code",
      "metadata": {
        "id": "d5W7LBRbSJva"
      },
      "source": [
        "#comments single line\n",
        "# python will not support multiline comments, have to use as many # as we want"
      ],
      "execution_count": null,
      "outputs": []
    },
    {
      "cell_type": "code",
      "metadata": {
        "colab": {
          "base_uri": "https://localhost:8080/"
        },
        "id": "juybHc5uTfPr",
        "outputId": "9473a480-1e97-431b-e5ac-73f5b74d3d61"
      },
      "source": [
        "a=8\n",
        "b=9\n",
        "a"
      ],
      "execution_count": null,
      "outputs": [
        {
          "output_type": "execute_result",
          "data": {
            "text/plain": [
              "8"
            ]
          },
          "metadata": {},
          "execution_count": 4
        }
      ]
    },
    {
      "cell_type": "code",
      "metadata": {
        "colab": {
          "base_uri": "https://localhost:8080/"
        },
        "id": "z7oBhmOZTscY",
        "outputId": "2290c07d-a5cb-4ac3-aab4-3758258df484"
      },
      "source": [
        "a\n",
        "b"
      ],
      "execution_count": null,
      "outputs": [
        {
          "output_type": "execute_result",
          "data": {
            "text/plain": [
              "9"
            ]
          },
          "metadata": {},
          "execution_count": 5
        }
      ]
    },
    {
      "cell_type": "code",
      "metadata": {
        "id": "kDTNFEKiTwbQ"
      },
      "source": [
        "# if we don't specify print , the last statement will execute\n",
        "# double quote for string\n"
      ],
      "execution_count": null,
      "outputs": []
    },
    {
      "cell_type": "code",
      "metadata": {
        "id": "fUD_e7AQUv2L"
      },
      "source": [
        "#datatype\n",
        "#int\n",
        "#float\n",
        "#bool\n",
        "#string"
      ],
      "execution_count": null,
      "outputs": []
    },
    {
      "cell_type": "code",
      "metadata": {
        "colab": {
          "base_uri": "https://localhost:8080/"
        },
        "id": "1JOf6N4cVG--",
        "outputId": "27c00b76-f169-4837-e0f0-74c23dcb8920"
      },
      "source": [
        "a-5\n",
        "b=9.5\n",
        "print(type(a))\n",
        "print(type(b))"
      ],
      "execution_count": null,
      "outputs": [
        {
          "output_type": "stream",
          "name": "stdout",
          "text": [
            "<class 'int'>\n",
            "<class 'float'>\n"
          ]
        }
      ]
    },
    {
      "cell_type": "code",
      "metadata": {
        "colab": {
          "base_uri": "https://localhost:8080/"
        },
        "id": "0tWCgPXmVixt",
        "outputId": "656256f2-dffb-45d9-e036-350fb4e57d58"
      },
      "source": [
        "c=True\n",
        "d= False\n",
        "print(type(c))\n",
        "print(type(d))"
      ],
      "execution_count": null,
      "outputs": [
        {
          "output_type": "stream",
          "name": "stdout",
          "text": [
            "<class 'bool'>\n",
            "<class 'bool'>\n"
          ]
        }
      ]
    },
    {
      "cell_type": "code",
      "metadata": {
        "colab": {
          "base_uri": "https://localhost:8080/",
          "height": 35
        },
        "id": "_qk0s0WGYKGX",
        "outputId": "652a653b-b17c-4443-92df-515df17f9795"
      },
      "source": [
        "e=\"start\"\n",
        "e"
      ],
      "execution_count": null,
      "outputs": [
        {
          "output_type": "execute_result",
          "data": {
            "application/vnd.google.colaboratory.intrinsic+json": {
              "type": "string"
            },
            "text/plain": [
              "'start'"
            ]
          },
          "metadata": {},
          "execution_count": 9
        }
      ]
    },
    {
      "cell_type": "code",
      "metadata": {
        "colab": {
          "base_uri": "https://localhost:8080/",
          "height": 35
        },
        "id": "-S5FHWkyYaD4",
        "outputId": "1a808162-4649-416f-beda-4e3bcd4012f4"
      },
      "source": [
        "e='start'\n",
        "e"
      ],
      "execution_count": null,
      "outputs": [
        {
          "output_type": "execute_result",
          "data": {
            "application/vnd.google.colaboratory.intrinsic+json": {
              "type": "string"
            },
            "text/plain": [
              "'start'"
            ]
          },
          "metadata": {},
          "execution_count": 10
        }
      ]
    },
    {
      "cell_type": "code",
      "metadata": {
        "colab": {
          "base_uri": "https://localhost:8080/"
        },
        "id": "-4uS-SwGYerQ",
        "outputId": "bf629375-a2ca-4324-809f-0e3659c63e2b"
      },
      "source": [
        "type(e)"
      ],
      "execution_count": null,
      "outputs": [
        {
          "output_type": "execute_result",
          "data": {
            "text/plain": [
              "str"
            ]
          },
          "metadata": {},
          "execution_count": 11
        }
      ]
    },
    {
      "cell_type": "code",
      "metadata": {
        "id": "7lCcdVkgY8fr"
      },
      "source": [
        "#indexing-- front indexing/reverse indexing\n",
        "#slicing\n",
        "# 0     1    2    3   4   5   6   7   8   9   10\n",
        "# i     n    t    e   l   l   i   p   a   a   t \n",
        "# -11  -10  -9   -8  -7  -6  -5  -4  -3  -2   -1"
      ],
      "execution_count": null,
      "outputs": []
    },
    {
      "cell_type": "code",
      "metadata": {
        "colab": {
          "base_uri": "https://localhost:8080/",
          "height": 35
        },
        "id": "6wKGhp8ZadOe",
        "outputId": "232d9f58-bc54-43fb-d004-2a1c722fa850"
      },
      "source": [
        "i=\"intellipaat\"\n",
        "i[4]"
      ],
      "execution_count": null,
      "outputs": [
        {
          "output_type": "execute_result",
          "data": {
            "application/vnd.google.colaboratory.intrinsic+json": {
              "type": "string"
            },
            "text/plain": [
              "'l'"
            ]
          },
          "metadata": {},
          "execution_count": 16
        }
      ]
    },
    {
      "cell_type": "code",
      "metadata": {
        "colab": {
          "base_uri": "https://localhost:8080/",
          "height": 35
        },
        "id": "bnYQoO_xajbt",
        "outputId": "15828afb-42a5-45ec-f4b5-72f66aa43fe3"
      },
      "source": [
        "i[3:7]"
      ],
      "execution_count": null,
      "outputs": [
        {
          "output_type": "execute_result",
          "data": {
            "application/vnd.google.colaboratory.intrinsic+json": {
              "type": "string"
            },
            "text/plain": [
              "'elli'"
            ]
          },
          "metadata": {},
          "execution_count": 13
        }
      ]
    },
    {
      "cell_type": "code",
      "metadata": {
        "colab": {
          "base_uri": "https://localhost:8080/",
          "height": 35
        },
        "id": "LxW0KY3cbWzU",
        "outputId": "9820663c-fd70-49ba-9a61-746c7beaf7e2"
      },
      "source": [
        "i[1:-5]"
      ],
      "execution_count": null,
      "outputs": [
        {
          "output_type": "execute_result",
          "data": {
            "application/vnd.google.colaboratory.intrinsic+json": {
              "type": "string"
            },
            "text/plain": [
              "'ntell'"
            ]
          },
          "metadata": {},
          "execution_count": 24
        }
      ]
    },
    {
      "cell_type": "code",
      "metadata": {
        "colab": {
          "base_uri": "https://localhost:8080/",
          "height": 35
        },
        "id": "tB8YkNCEcotm",
        "outputId": "fe69cafc-db94-43c9-a3c7-9626f46e0b48"
      },
      "source": [
        "i[-6:-2]"
      ],
      "execution_count": null,
      "outputs": [
        {
          "output_type": "execute_result",
          "data": {
            "application/vnd.google.colaboratory.intrinsic+json": {
              "type": "string"
            },
            "text/plain": [
              "'lipa'"
            ]
          },
          "metadata": {},
          "execution_count": 22
        }
      ]
    },
    {
      "cell_type": "code",
      "metadata": {
        "colab": {
          "base_uri": "https://localhost:8080/",
          "height": 35
        },
        "id": "jrwjcknWc1A0",
        "outputId": "b4fbb652-0db7-4aff-b803-14e8d6b9a7fb"
      },
      "source": [
        "n=\"abc123hi\"\n",
        "_country=\"india\"\n",
        "_country"
      ],
      "execution_count": null,
      "outputs": [
        {
          "output_type": "execute_result",
          "data": {
            "application/vnd.google.colaboratory.intrinsic+json": {
              "type": "string"
            },
            "text/plain": [
              "'india'"
            ]
          },
          "metadata": {},
          "execution_count": 33
        }
      ]
    },
    {
      "cell_type": "code",
      "metadata": {
        "colab": {
          "base_uri": "https://localhost:8080/"
        },
        "id": "uqlL3Pu_e1V4",
        "outputId": "fec1e002-e443-46b7-d18c-1d14fcad5b7a"
      },
      "source": [
        "len('a b c ')"
      ],
      "execution_count": null,
      "outputs": [
        {
          "output_type": "execute_result",
          "data": {
            "text/plain": [
              "6"
            ]
          },
          "metadata": {},
          "execution_count": 36
        }
      ]
    },
    {
      "cell_type": "code",
      "metadata": {
        "id": "KrZxSoZbfE3a"
      },
      "source": [
        "#list-- Has many values instead of allocating memory for each values, Can have multiple datatypes.\n",
        "#tuple\n",
        "#set\n",
        "#dictionary"
      ],
      "execution_count": null,
      "outputs": []
    },
    {
      "cell_type": "code",
      "metadata": {
        "colab": {
          "base_uri": "https://localhost:8080/"
        },
        "id": "ZMPkOCkEfy0h",
        "outputId": "4880501f-d7b7-4900-da96-8eb7e48a6044"
      },
      "source": [
        "#list-- Has many values instead of allocating memory for each values, Can have multiple datatypes.\n",
        "l1=[1,2.5,3,\"test\",True,False,0,\"Welcome\",[100,200,\"hello\"]]\n",
        "l1[1]=300\n",
        "print(l1[7][3:7])\n",
        "print(l1[-1][1])\n",
        "l1"
      ],
      "execution_count": null,
      "outputs": [
        {
          "output_type": "stream",
          "name": "stdout",
          "text": [
            "come\n",
            "200\n"
          ]
        },
        {
          "output_type": "execute_result",
          "data": {
            "text/plain": [
              "[1, 300, 3, 'test', True, False, 0, 'Welcome', [100, 200, 'hello']]"
            ]
          },
          "metadata": {},
          "execution_count": 45
        }
      ]
    },
    {
      "cell_type": "code",
      "metadata": {
        "colab": {
          "base_uri": "https://localhost:8080/"
        },
        "id": "yIIun9lqhsHX",
        "outputId": "dd1ebd21-5d94-40a8-8da9-ad31fbd8f943"
      },
      "source": [
        "#tuple can define with round brackets can have anything Or No Brackets.\n",
        "# tuple immutable/cannot change value in it\n",
        "# can have tuple inside tuple\n",
        "# list and tuple can have one inside another \n",
        "t1=(1,2,True,3.5, 600,False,0)\n",
        "#t1[1]=100\n",
        "t1"
      ],
      "execution_count": null,
      "outputs": [
        {
          "output_type": "execute_result",
          "data": {
            "text/plain": [
              "(1, 2, True, 3.5, 600, False, 0)"
            ]
          },
          "metadata": {},
          "execution_count": 48
        }
      ]
    },
    {
      "cell_type": "code",
      "metadata": {
        "colab": {
          "base_uri": "https://localhost:8080/"
        },
        "id": "9UIbXwxGmUK9",
        "outputId": "59ed2501-61a7-437e-9789-a1fe37185acc"
      },
      "source": [
        "#dictionary: Key value pair. cannot use indexing\n",
        "#stored value are random that is why cannot use indexing/slicing. \n",
        "#mutable/can change values inside dictionary\n",
        "d1={1:\"india\",2:650, 4:\"mycountry\"}\n",
        "d1[100]=True\n",
        "d1[100]=\"test\"\n",
        "d1.keys()\n",
        "d1.values()\n",
        "d1.items()"
      ],
      "execution_count": null,
      "outputs": [
        {
          "output_type": "execute_result",
          "data": {
            "text/plain": [
              "dict_items([(1, 'india'), (2, 650), (4, 'mycountry'), (100, 'test')])"
            ]
          },
          "metadata": {},
          "execution_count": 58
        }
      ]
    },
    {
      "cell_type": "code",
      "metadata": {
        "id": "bm_h8UPTp7x3"
      },
      "source": [
        "#set -- Mutable\n",
        "#Dictory--Mutable\n",
        "\n",
        "#mutable-- >List, Set, Dictionry\n",
        "#immuatble--> Tuple, String\n",
        "\n",
        "# Iterable --> can access--> List,Tuple, Dictionary(not by indexing but only by Keys), String\n",
        "#Non Iterable-->Cannot be access-->Set\n",
        "#Day"
      ],
      "execution_count": null,
      "outputs": []
    }
  ]
}